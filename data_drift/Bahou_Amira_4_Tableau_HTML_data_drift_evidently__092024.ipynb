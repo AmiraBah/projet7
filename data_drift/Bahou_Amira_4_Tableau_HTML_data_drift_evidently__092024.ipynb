{
 "cells": [
  {
   "cell_type": "code",
   "execution_count": 1,
   "metadata": {},
   "outputs": [
    {
     "name": "stdout",
     "output_type": "stream",
     "text": [
      "Le rapport de dérive des données a été généré et sauvegardé.\n"
     ]
    }
   ],
   "source": [
    "import pandas as pd\n",
    "from evidently import ColumnMapping\n",
    "from evidently.report import Report\n",
    "from evidently.metric_preset import DataDriftPreset  \n",
    "\n",
    "# Charger les ensembles de données\n",
    "production_data = pd.read_csv('/Users/amira/Documents/OPC/Projet7/projet7/data/production_data.csv', sep=',')\n",
    "train_data = pd.read_csv('/Users/amira/Documents/OPC/Projet7/projet7/data/train_data.csv', sep=',')\n",
    "\n",
    "\n",
    "# Supprimer la colonne TARGET dans les deux datasets, car elle n'est pas pertinente pour le Data Drift\n",
    "if 'TARGET' in train_data.columns:\n",
    "    train_data = train_data.drop(columns=['TARGET'])\n",
    "\n",
    "if 'TARGET' in production_data.columns:\n",
    "    production_data = production_data.drop(columns=['TARGET'])\n",
    "\n",
    "\n",
    "# Définir la correspondance des colonnes, sans la variable cible\n",
    "column_mapping = ColumnMapping(\n",
    "    target=None,  \n",
    "    prediction=None,  \n",
    "    numerical_features=[col for col in train_data.select_dtypes(include=[int, float]).columns],\n",
    "    categorical_features=[col for col in train_data.select_dtypes(include=[object]).columns]\n",
    ")\n",
    "\n",
    "# Initialiser le rapport Evidently avec le preset DataDriftPreset\n",
    "report = Report(metrics=[DataDriftPreset()])\n",
    "\n",
    "# Générer le rapport de dérive entre les données d'entraînement et de production\n",
    "report.run(reference_data=train_data, current_data=production_data, column_mapping=column_mapping)\n",
    "\n",
    "# Sauvegarder le rapport au format HTML\n",
    "report.save_html(\"/Users/amira/Documents/OPC/Projet7/projet7/data_drift/evidently_data_drift_report.html\")\n",
    "\n",
    "print(\"Le rapport de dérive des données a été généré et sauvegardé.\")\n"
   ]
  },
  {
   "cell_type": "code",
   "execution_count": null,
   "metadata": {},
   "outputs": [],
   "source": []
  }
 ],
 "metadata": {
  "kernelspec": {
   "display_name": "base",
   "language": "python",
   "name": "python3"
  },
  "language_info": {
   "codemirror_mode": {
    "name": "ipython",
    "version": 3
   },
   "file_extension": ".py",
   "mimetype": "text/x-python",
   "name": "python",
   "nbconvert_exporter": "python",
   "pygments_lexer": "ipython3",
   "version": "3.11.7"
  }
 },
 "nbformat": 4,
 "nbformat_minor": 2
}
