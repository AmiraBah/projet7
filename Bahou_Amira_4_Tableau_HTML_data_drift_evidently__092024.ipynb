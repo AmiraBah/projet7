{
 "cells": [
  {
   "cell_type": "code",
   "execution_count": 10,
   "metadata": {},
   "outputs": [
    {
     "name": "stdout",
     "output_type": "stream",
     "text": [
      "Le rapport de dérive des données a été généré et sauvegardé\n"
     ]
    }
   ],
   "source": [
    "import pandas as pd\n",
    "from evidently import ColumnMapping\n",
    "from evidently.report import Report\n",
    "from evidently.metric_preset import DataDriftPreset  # Utilisation du preset DataDrift\n",
    "\n",
    "# Charger les ensembles de données (train et test)\n",
    "application_test = pd.read_csv('data/test_df_2.csv', sep=',')\n",
    "application_train = pd.read_csv('data/train_df_2.csv', sep=',')\n",
    "\n",
    "# Supprimer la colonne TARGET dans les deux datasets, car elle n'est pas pertinente pour le Data Drift\n",
    "if 'TARGET' in application_train.columns:\n",
    "    application_train = application_train.drop(columns=['TARGET'])\n",
    "\n",
    "# Définir la correspondance des colonnes, sans la variable cible\n",
    "column_mapping = ColumnMapping(\n",
    "    target=None,  # On ne spécifie pas de cible ici pour la dérive des données\n",
    "    prediction=None,  # Pas de prédiction ici\n",
    "    numerical_features=[col for col in application_train.select_dtypes(include=[int, float]).columns],\n",
    "    categorical_features=[col for col in application_train.select_dtypes(include=[object]).columns]\n",
    ")\n",
    "\n",
    "# Initialiser le rapport Evidently avec le preset DataDriftPreset\n",
    "report = Report(metrics=[DataDriftPreset()])\n",
    "\n",
    "# Générer le rapport de dérive entre les données d'entraînement (référence) et de test (current)\n",
    "report.run(reference_data=application_train, current_data=application_test, column_mapping=column_mapping)\n",
    "\n",
    "# Sauvegarder le rapport au format HTML\n",
    "report.save_html(\"/Users/amira/Documents/OPC/Projet7/projet7/evidently_data_drift_report.html\")\n",
    "\n",
    "print(\"Le rapport de dérive des données a été généré et sauvegardé\")\n"
   ]
  },
  {
   "cell_type": "markdown",
   "metadata": {},
   "source": [
    "Le drift score est une valeur numérique qui indique à quel point la distribution des caractéristiques d'un ensemble de données (par exemple, l'ensemble de test) diffère de celle d'un autre ensemble (par exemple, l'ensemble d'entraînement). Un score plus élevé indique une plus grande dérive, ce qui peut signifier que le modèle pourrait être moins performant sur l'ensemble de test.\n",
    "\n",
    "Dérive Modérée à Élevée : Un score de dérive élevé peut affecter la performance du modèle. Par exemple, si le modèle a été entraîné sur des données qui ne reflètent plus la réalité des données en production, il pourrait faire des prédictions moins précises.\n",
    "Validation de Modèle : Si le drift score est élevé, il est souvent recommandé de valider à nouveau le modèle sur les données récentes, voire de le réentraîner avec des données plus représentatives.\n",
    "\n",
    "Actions à Envisager\n",
    "- Surveiller la Dérive : Une surveillance continue des scores de dérive est essentielle pour détecter rapidement les changements dans les données et pour prendre des mesures proactives.\n",
    "- Réentraînement : Si la dérive est significative et continue, envisage de réentraîner le modèle avec de nouvelles données qui reflètent mieux les conditions actuelles.\n",
    "- Analyse des Caractéristiques : Identifie quelles caractéristiques contribuent le plus à la dérive. Cela peut fournir des informations précieuses sur les facteurs qui changent dans le domaine."
   ]
  },
  {
   "cell_type": "markdown",
   "metadata": {},
   "source": []
  }
 ],
 "metadata": {
  "kernelspec": {
   "display_name": "base",
   "language": "python",
   "name": "python3"
  },
  "language_info": {
   "codemirror_mode": {
    "name": "ipython",
    "version": 3
   },
   "file_extension": ".py",
   "mimetype": "text/x-python",
   "name": "python",
   "nbconvert_exporter": "python",
   "pygments_lexer": "ipython3",
   "version": "3.11.7"
  }
 },
 "nbformat": 4,
 "nbformat_minor": 2
}
